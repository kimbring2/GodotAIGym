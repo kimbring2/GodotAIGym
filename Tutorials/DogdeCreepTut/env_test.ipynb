{
 "cells": [
  {
   "cell_type": "code",
   "execution_count": 1,
   "id": "830a081c",
   "metadata": {},
   "outputs": [
    {
     "name": "stderr",
     "output_type": "stream",
     "text": [
      "/home/kimbring2/.local/lib/python3.7/site-packages/ale_py/roms/__init__.py:89: DeprecationWarning: Automatic importing of atari-py roms won't be supported in future releases of ale-py. Please migrate over to using `ale-import-roms` OR an ALE-supported ROM package. To make this warning disappear you can run `ale-import-roms --import-from-pkg atari_py.atari_roms`.For more information see: https://github.com/mgbellemare/Arcade-Learning-Environment#rom-management\n",
      "  ROMS = resolve_roms()\n",
      "2022-11-10 03:22:16.043336: I tensorflow/stream_executor/platform/default/dso_loader.cc:49] Successfully opened dynamic library libcudart.so.11.0\n"
     ]
    },
    {
     "name": "stdout",
     "output_type": "stream",
     "text": [
      "Created float32 vector agent_action size = 1\n",
      "Created int32 vector env_action size = 1\n",
      "Created uint32 vector observation size = 49152\n",
      "Created float32 vector reward size = 1\n",
      "Created int32 vector done size = 1\n",
      "episode:  0\n",
      "step:  21\n",
      "episode:  1\n",
      "step:  20\n",
      "episode:  2\n",
      "step:  21\n",
      "episode:  3\n",
      "step:  23\n",
      "episode:  4\n",
      "step:  24\n",
      "episode:  5\n",
      "step:  25\n",
      "episode:  6\n"
     ]
    },
    {
     "ename": "KeyboardInterrupt",
     "evalue": "",
     "output_type": "error",
     "traceback": [
      "\u001b[0;31m---------------------------------------------------------------------------\u001b[0m",
      "\u001b[0;31mKeyboardInterrupt\u001b[0m                         Traceback (most recent call last)",
      "\u001b[0;32m/tmp/ipykernel_11304/2195875668.py\u001b[0m in \u001b[0;36m<module>\u001b[0;34m\u001b[0m\n\u001b[1;32m     39\u001b[0m                         \u001b[0;31m#print(\"action: \", action)\u001b[0m\u001b[0;34m\u001b[0m\u001b[0;34m\u001b[0m\u001b[0;34m\u001b[0m\u001b[0m\n\u001b[1;32m     40\u001b[0m \u001b[0;34m\u001b[0m\u001b[0m\n\u001b[0;32m---> 41\u001b[0;31m                         \u001b[0mstate_next\u001b[0m\u001b[0;34m,\u001b[0m \u001b[0mreward\u001b[0m\u001b[0;34m,\u001b[0m \u001b[0mdone\u001b[0m\u001b[0;34m,\u001b[0m \u001b[0m_\u001b[0m \u001b[0;34m=\u001b[0m \u001b[0menv\u001b[0m\u001b[0;34m.\u001b[0m\u001b[0mstep\u001b[0m\u001b[0;34m(\u001b[0m\u001b[0maction\u001b[0m\u001b[0;34m)\u001b[0m\u001b[0;34m\u001b[0m\u001b[0;34m\u001b[0m\u001b[0m\n\u001b[0m\u001b[1;32m     42\u001b[0m                         \u001b[0;31m#state_next = state_next.detach().numpy()\u001b[0m\u001b[0;34m\u001b[0m\u001b[0;34m\u001b[0m\u001b[0;34m\u001b[0m\u001b[0m\n\u001b[1;32m     43\u001b[0m                         \u001b[0;31m#print(\"state_next: \", state_next)\u001b[0m\u001b[0;34m\u001b[0m\u001b[0;34m\u001b[0m\u001b[0;34m\u001b[0m\u001b[0m\n",
      "\u001b[0;32m/media/kimbring2/be356a87-def6-4be8-bad2-077951f0f3da/GodotAIGym/Tutorials/DogdeCreepTut/dodgeCreep.py\u001b[0m in \u001b[0;36mstep\u001b[0;34m(self, action)\u001b[0m\n\u001b[1;32m     60\u001b[0m \u001b[0;34m\u001b[0m\u001b[0m\n\u001b[1;32m     61\u001b[0m                 \u001b[0mself\u001b[0m\u001b[0;34m.\u001b[0m\u001b[0msem_obs\u001b[0m\u001b[0;34m.\u001b[0m\u001b[0mwait\u001b[0m\u001b[0;34m(\u001b[0m\u001b[0;34m)\u001b[0m\u001b[0;34m\u001b[0m\u001b[0;34m\u001b[0m\u001b[0m\n\u001b[0;32m---> 62\u001b[0;31m                 \u001b[0mobservation\u001b[0m \u001b[0;34m=\u001b[0m \u001b[0mself\u001b[0m\u001b[0;34m.\u001b[0m\u001b[0mobservation_tensor\u001b[0m\u001b[0;34m.\u001b[0m\u001b[0mread\u001b[0m\u001b[0;34m(\u001b[0m\u001b[0;34m)\u001b[0m\u001b[0;34m\u001b[0m\u001b[0;34m\u001b[0m\u001b[0m\n\u001b[0m\u001b[1;32m     63\u001b[0m                 \u001b[0mreward\u001b[0m \u001b[0;34m=\u001b[0m \u001b[0mself\u001b[0m\u001b[0;34m.\u001b[0m\u001b[0mreward_tensor\u001b[0m\u001b[0;34m.\u001b[0m\u001b[0mread\u001b[0m\u001b[0;34m(\u001b[0m\u001b[0;34m)\u001b[0m\u001b[0;34m\u001b[0m\u001b[0;34m\u001b[0m\u001b[0m\n\u001b[1;32m     64\u001b[0m                 \u001b[0mdone\u001b[0m \u001b[0;34m=\u001b[0m \u001b[0mself\u001b[0m\u001b[0;34m.\u001b[0m\u001b[0mdone_tensor\u001b[0m\u001b[0;34m.\u001b[0m\u001b[0mread\u001b[0m\u001b[0;34m(\u001b[0m\u001b[0;34m)\u001b[0m\u001b[0;34m\u001b[0m\u001b[0;34m\u001b[0m\u001b[0m\n",
      "\u001b[0;31mKeyboardInterrupt\u001b[0m: "
     ]
    }
   ],
   "source": [
    "import gym\n",
    "import numpy as np\n",
    "import random\n",
    "import matplotlib.pylab as plt\n",
    "import cv2\n",
    "import io \n",
    "import time\n",
    "\n",
    "from dodgeCreep import dodgeCreepEnv\n",
    "#print(\"dodgeCreep.__flie__: \", dodgeCreep.__flie__)\n",
    "\n",
    "if __name__ == '__main__':\n",
    "\tnum_warmup = 1000\n",
    "\tnum_train = 200000\n",
    "\tnum_eval = 0\n",
    "\tbuffer_length = 600000\n",
    "\n",
    "\tGODOT_BIN_PATH = \"dodge_the_creeps/DodgeCreep.x86_64\"\n",
    "\tenv_abs_path = \"dodge_the_creeps/DodgeCreep.pck\"\n",
    "\tenv = dodgeCreepEnv(exec_path=GODOT_BIN_PATH, env_path=env_abs_path, turbo_mode=True)\n",
    "\n",
    "\tnum_states = env.observation_space.shape[0]\n",
    "\tnum_actions = env.action_space.shape[0]\n",
    "\n",
    "\t#print(\"num_actions: \", num_actions)\n",
    "\n",
    "\tfor episode in range(1000):\n",
    "\t\tprint(\"episode: \", episode)\n",
    "\n",
    "\t\tstate = env.reset()\n",
    "\t\tstep = 0\n",
    "\t\twhile True:\n",
    "\t\t\taction = random.randint(0,5)\n",
    "\n",
    "\t\t\t#if step == 0:\n",
    "\t\t\t#\taction = 3\n",
    "\t\t\t#else:\n",
    "\t\t\t#\taction = 0\n",
    "\t\t\t#print(\"action: \", action)\n",
    "\n",
    "\t\t\tstate_next, reward, done, _ = env.step(action)\n",
    "\t\t\t#state_next = state_next.detach().numpy()\n",
    "\t\t\t#print(\"state_next: \", state_next)\n",
    "\t\t\t#print(\"reward: \", reward)\n",
    "\t\t\t#print(\"done: \", done)\n",
    "\n",
    "\t\t\tstate_next = np.reshape(state_next, (128,128,3))\n",
    "\t\t\tstate_next = state_next.astype(np.uint8)\n",
    "\t\t\tstate_next = cv2.resize(state_next, dsize=(64,64), interpolation=cv2.INTER_CUBIC)\n",
    "\t\t\tstate_next = 0.299*state_next[:,:,0] + 0.587*state_next[:,:,1] + 0.114*state_next[:,:,2]\n",
    "\t\t\tstate_next[state_next < 100] = 0\n",
    "\t\t\tstate_next[state_next >= 150] = 255\n",
    "\t\t\tstate_next = np.array(state_next).astype(np.float32) / 255.0\n",
    "\n",
    "\t\t\t#state_next = np.array(state_next).astype(np.float32)\n",
    "\t\t\t#state_next = cv2.cvtColor(state_next, cv2.COLOR_BGR2RGB)\n",
    "\t\t\t#state_next = state_next.astype(np.uint8)\n",
    "\t\t\t#state_next = cv2.resize(state_next, (80, 80), interpolation=cv2.INTER_CUBIC)\n",
    "\t\t\t#state_next = 0.299*state_next[:,:,0] + 0.587*state_next[:,:,1] + 0.114*state_next[:,:,2]\n",
    "\n",
    "\t\t\t# convert everything to black and white (agent will train faster)\n",
    "\t\t\t#state_next[state_next < 70] = 0\n",
    "\t\t\t#state_next[state_next >= 100] = 255\n",
    "\n",
    "\t\t\t#state_next = np.array(state_net).astype(np.float32) / 255.0\n",
    "\t\t\t#state_next = state_next / 255.0\n",
    "\n",
    "\t\t\t#cv2.imshow(\"state_next: \", state_next)\n",
    "\t\t\t#if cv2.waitKey(25) & 0xFF == ord(\"q\"):\n",
    "\t\t\t#\tcv2.destroyAllWindows()\n",
    "\n",
    "\t\t\t#print(\"\")\n",
    "\t\t\t#time.sleep(1.0)\n",
    "\t\t\tstep += 1\n",
    "\n",
    "\t\t\tif done == True:\n",
    "\t\t\t\tprint(\"step: \", step)\n",
    "\t\t\t\tbreak\n",
    "\t\t\n",
    "\tenv.close()\n"
   ]
  },
  {
   "cell_type": "code",
   "execution_count": null,
   "id": "f7ffaa43",
   "metadata": {},
   "outputs": [],
   "source": []
  }
 ],
 "metadata": {
  "kernelspec": {
   "display_name": "py37",
   "language": "python",
   "name": "py37"
  },
  "language_info": {
   "codemirror_mode": {
    "name": "ipython",
    "version": 3
   },
   "file_extension": ".py",
   "mimetype": "text/x-python",
   "name": "python",
   "nbconvert_exporter": "python",
   "pygments_lexer": "ipython3",
   "version": "3.7.13"
  }
 },
 "nbformat": 4,
 "nbformat_minor": 5
}
